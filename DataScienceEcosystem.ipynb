{
  "metadata": {
    "kernelspec": {
      "name": "python",
      "display_name": "Python (Pyodide)",
      "language": "python"
    },
    "language_info": {
      "codemirror_mode": {
        "name": "python",
        "version": 3
      },
      "file_extension": ".py",
      "mimetype": "text/x-python",
      "name": "python",
      "nbconvert_exporter": "python",
      "pygments_lexer": "ipython3",
      "version": "3.8"
    }
  },
  "nbformat_minor": 5,
  "nbformat": 4,
  "cells": [
    {
      "id": "5ffa732c-c169-403f-8828-1ea11bc28aa8",
      "cell_type": "markdown",
      "source": "# Data Science Tools and Ecosystem",
      "metadata": {}
    },
    {
      "id": "7d2555f4-ea2e-42cd-86b1-0b65b68c6336",
      "cell_type": "markdown",
      "source": "In this notebook, Data Science Tools and Ecosystem are summarized.",
      "metadata": {}
    },
    {
      "id": "d8835a61-9167-4ac6-a182-6ecf1b0639c3",
      "cell_type": "markdown",
      "source": "Objectives:\n- List popular languages for Data Science\n- List commonly used libraries for Data Science\n- List Data Science Tools\n- Conduct arithmetic computations",
      "metadata": {}
    },
    {
      "id": "a8564d00-362b-4959-a658-837192ed83b3",
      "cell_type": "markdown",
      "source": "Some of the popular languages that Data Scientists use are:\n1. Python\n2. Java\n3. R",
      "metadata": {}
    },
    {
      "id": "de135eb4-1639-458e-bb4b-d2e9a3e7ab3e",
      "cell_type": "markdown",
      "source": "Some of the commonly used libraries used by Data Scientists include:\n1. NumPy\n2. Seaborn\n3. Pandas\n4. Matplotlib",
      "metadata": {}
    },
    {
      "id": "c44598d4-d49f-42da-86cf-952fea5c5fd2",
      "cell_type": "markdown",
      "source": "| Data Science Tools |\n|--------------------|\n| Jupyter Notebook |\n| RStudio |\n| Visual Studio Code |\n| GitHub |",
      "metadata": {}
    },
    {
      "id": "75c29520-0ad5-47dc-b5ba-499897d43097",
      "cell_type": "markdown",
      "source": "### Below are a few examples of evaluating arithmetic expressions in Python.",
      "metadata": {}
    },
    {
      "id": "99d2b906-50c0-487d-9168-638bd8d81086",
      "cell_type": "code",
      "source": "# This a simple arithmetic expression to mutiply then add integers\n\n(3*4)+5",
      "metadata": {
        "trusted": true
      },
      "outputs": [
        {
          "execution_count": 1,
          "output_type": "execute_result",
          "data": {
            "text/plain": "17"
          },
          "metadata": {}
        }
      ],
      "execution_count": 1
    },
    {
      "id": "33545f33-a637-4a03-b40a-dd8b8346bac6",
      "cell_type": "code",
      "source": "# This will convert 200 minutes to hours by diving by 60\n\n200/60",
      "metadata": {
        "trusted": true
      },
      "outputs": [
        {
          "execution_count": 2,
          "output_type": "execute_result",
          "data": {
            "text/plain": "3.3333333333333335"
          },
          "metadata": {}
        }
      ],
      "execution_count": 2
    },
    {
      "id": "d746bed8-e8ef-4e9f-b8c9-97f2147fe0ab",
      "cell_type": "markdown",
      "source": "## Author\nJamie Seemungal",
      "metadata": {}
    },
    {
      "id": "e9f74f69-56a8-4f51-a1c0-0f0ee803ca59",
      "cell_type": "code",
      "source": "",
      "metadata": {
        "trusted": true
      },
      "outputs": [],
      "execution_count": null
    }
  ]
}